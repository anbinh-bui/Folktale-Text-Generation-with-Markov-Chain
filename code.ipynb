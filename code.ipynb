{
 "cells": [
  {
   "cell_type": "markdown",
   "metadata": {},
   "source": [
    "Text Generation with Markov Chains in Python\n",
    "============================================\n",
    "Parse three folk tale styled texts"
   ]
  },
  {
   "cell_type": "code",
   "metadata": {
    "ExecuteTime": {
     "end_time": "2024-08-05T21:07:42.660528Z",
     "start_time": "2024-08-05T21:07:42.651448Z"
    }
   },
   "source": [
    "files = ['text/grimm_tales.txt', 'text/little_red_riding_hood.txt', 'text/robin_hood_prologue.txt']\n",
    "text = \"\"\n",
    "\n",
    "for f in files: \n",
    "    with open(f, 'r') as f:\n",
    "        text += f.read()\n",
    "print(text[:500])"
   ],
   "outputs": [
    {
     "name": "stdout",
     "output_type": "stream",
     "text": [
      "THE GOLDEN BIRD\n",
      "\n",
      "A certain king had a beautiful garden, and in the garden stood a tree\n",
      "which bore golden apples. These apples were always counted, and about\n",
      "the time when they began to grow ripe it was found that every night one\n",
      "of them was gone. The king became very angry at this, and ordered the\n",
      "gardener to keep watch all night under the tree. The gardener set his\n",
      "eldest son to watch; but about twelve o’clock he fell asleep, and in\n",
      "the morning another of the apples was missing. Then the second\n"
     ]
    }
   ],
   "execution_count": 2
  },
  {
   "cell_type": "markdown",
   "metadata": {},
   "source": [
    "Weather as a Markov Chain\n",
    "-------------------------\n",
    "\n",
    "![alt text](images/markov_weather.png \"Weather\")\n",
    "\n",
    "Matrix representation (rows are current state, columns are next state):\n",
    "\n",
    "| | Sunny | Cloudy | Rainy |\n",
    "| --- | --- | --- | --- |\n",
    "| **Sunny** | 0.6 | 0.1 | 0.3 |\n",
    "| **Cloudy** | 0.3 | 0.3 | 0.4 |\n",
    "| **Rainy** | 0.3 | 0.2 | 0.5 |\n"
   ]
  },
  {
   "cell_type": "markdown",
   "metadata": {},
   "source": [
    "Text as a Markov Chain\n",
    "----------------------\n",
    "\n",
    "**The cat ran over the dog.**\n",
    "\n",
    "![alt text](images/markov_text1.png \"Text\")\n",
    "\n",
    "Matrix representation (rows are current state, columns are next state):\n",
    "\n",
    "| | the | cat | ran | over | dog | . |\n",
    "| --- | --- | --- | --- | --- | --- | --- |\n",
    "| **the** | 0 | 0.5 | 0 | 0 | 0.5 | 0 |\n",
    "| **cat** | 0 | 0 | 1 | 0 | 0 | 0 |\n",
    "| **ran** | 0 | 0 | 0 | 1 | 0 | 0 |\n",
    "| **over** | 1 | 0 | 0 | 0 | 0 | 0 |\n",
    "| **dog** | 0 | 0 | 0 | 0 | 0 | 1 |\n",
    "| **.** | 0 | 0 | 0 | 0 | 0 | 1 |\n",
    "\n"
   ]
  },
  {
   "cell_type": "markdown",
   "metadata": {},
   "source": [
    "Define states as the distinct word tokens"
   ]
  },
  {
   "cell_type": "code",
   "metadata": {
    "ExecuteTime": {
     "end_time": "2024-08-05T21:07:50.227969Z",
     "start_time": "2024-08-05T21:07:50.141223Z"
    }
   },
   "source": [
    "import re\n",
    "text = re.sub(\"[^A-z,.!?'\\n]+\", \" \", text) #replace unwanted characters with strings\n",
    "text = re.sub(\"([.,?!])\", r\" \\1 \", text)\n",
    "\n",
    "tokens = text.lower().split()\n",
    "distinct_states = list(set(tokens))"
   ],
   "outputs": [],
   "execution_count": 3
  },
  {
   "cell_type": "markdown",
   "metadata": {},
   "source": [
    "Define transition matrix"
   ]
  },
  {
   "cell_type": "code",
   "metadata": {
    "ExecuteTime": {
     "end_time": "2024-08-05T21:16:00.573590Z",
     "start_time": "2024-08-05T21:16:00.368577Z"
    }
   },
   "source": [
    "from scipy.sparse import csr_matrix\n",
    "m = csr_matrix(\n",
    "    (len(distinct_states), len(distinct_states)),\n",
    "    dtype = int\n",
    ")\n",
    "\n",
    "state_index = dict(\n",
    "    [(state, idx_num) for idx_num, state in enumerate(distinct_states)]\n",
    ")"
   ],
   "outputs": [
    {
     "name": "stdout",
     "output_type": "stream",
     "text": [
      "Unexpected exception formatting exception. Falling back to standard exception\n"
     ]
    },
    {
     "name": "stderr",
     "output_type": "stream",
     "text": [
      "Traceback (most recent call last):\n",
      "  File \"/opt/anaconda3/lib/python3.9/site-packages/IPython/core/interactiveshell.py\", line 3369, in run_code\n",
      "    exec(code_obj, self.user_global_ns, self.user_ns)\n",
      "  File \"/var/folders/80/qjkbks0x51ldxykmv25vw6380000gn/T/ipykernel_81169/3786038257.py\", line 1, in <cell line: 1>\n",
      "    from scipy.sparse import csr_matrix\n",
      "  File \"/opt/anaconda3/lib/python3.9/site-packages/scipy/sparse/__init__.py\", line 294, in <module>\n",
      "    from ._base import *\n",
      "  File \"/opt/anaconda3/lib/python3.9/site-packages/scipy/sparse/_base.py\", line 5, in <module>\n",
      "    from scipy._lib._util import VisibleDeprecationWarning\n",
      "ImportError: cannot import name 'VisibleDeprecationWarning' from 'scipy._lib._util' (/opt/anaconda3/lib/python3.9/site-packages/scipy/_lib/_util.py)\n",
      "\n",
      "During handling of the above exception, another exception occurred:\n",
      "\n",
      "Traceback (most recent call last):\n",
      "  File \"/opt/anaconda3/lib/python3.9/site-packages/IPython/core/interactiveshell.py\", line 1982, in showtraceback\n",
      "    stb = self.InteractiveTB.structured_traceback(\n",
      "  File \"/opt/anaconda3/lib/python3.9/site-packages/IPython/core/ultratb.py\", line 1118, in structured_traceback\n",
      "    return FormattedTB.structured_traceback(\n",
      "  File \"/opt/anaconda3/lib/python3.9/site-packages/IPython/core/ultratb.py\", line 1012, in structured_traceback\n",
      "    return VerboseTB.structured_traceback(\n",
      "  File \"/opt/anaconda3/lib/python3.9/site-packages/IPython/core/ultratb.py\", line 865, in structured_traceback\n",
      "    formatted_exception = self.format_exception_as_a_whole(etype, evalue, etb, number_of_lines_of_context,\n",
      "  File \"/opt/anaconda3/lib/python3.9/site-packages/IPython/core/ultratb.py\", line 818, in format_exception_as_a_whole\n",
      "    frames.append(self.format_record(r))\n",
      "  File \"/opt/anaconda3/lib/python3.9/site-packages/IPython/core/ultratb.py\", line 736, in format_record\n",
      "    result += ''.join(_format_traceback_lines(frame_info.lines, Colors, self.has_colors, lvals))\n",
      "  File \"/opt/anaconda3/lib/python3.9/site-packages/stack_data/utils.py\", line 145, in cached_property_wrapper\n",
      "    value = obj.__dict__[self.func.__name__] = self.func(obj)\n",
      "  File \"/opt/anaconda3/lib/python3.9/site-packages/stack_data/core.py\", line 698, in lines\n",
      "    pieces = self.included_pieces\n",
      "  File \"/opt/anaconda3/lib/python3.9/site-packages/stack_data/utils.py\", line 145, in cached_property_wrapper\n",
      "    value = obj.__dict__[self.func.__name__] = self.func(obj)\n",
      "  File \"/opt/anaconda3/lib/python3.9/site-packages/stack_data/core.py\", line 649, in included_pieces\n",
      "    pos = scope_pieces.index(self.executing_piece)\n",
      "  File \"/opt/anaconda3/lib/python3.9/site-packages/stack_data/utils.py\", line 145, in cached_property_wrapper\n",
      "    value = obj.__dict__[self.func.__name__] = self.func(obj)\n",
      "  File \"/opt/anaconda3/lib/python3.9/site-packages/stack_data/core.py\", line 628, in executing_piece\n",
      "    return only(\n",
      "  File \"/opt/anaconda3/lib/python3.9/site-packages/executing/executing.py\", line 164, in only\n",
      "    raise NotOneValueFound('Expected one value, found 0')\n",
      "executing.executing.NotOneValueFound: Expected one value, found 0\n"
     ]
    }
   ],
   "execution_count": 8
  },
  {
   "cell_type": "markdown",
   "metadata": {},
   "source": [
    "Count transitions and fill in transition matrix"
   ]
  },
  {
   "cell_type": "code",
   "metadata": {
    "ExecuteTime": {
     "end_time": "2024-08-05T21:10:35.534660Z",
     "start_time": "2024-08-05T21:10:35.506385Z"
    }
   },
   "source": [
    "for i in range(len(tokens)-1):\n",
    "    row = state_index[tokens[i]]\n",
    "    col = state_index[tokens[i+1]]\n",
    "    m[row,col] += 1\n",
    "    "
   ],
   "outputs": [
    {
     "ename": "NameError",
     "evalue": "name 'state_index' is not defined",
     "output_type": "error",
     "traceback": [
      "\u001B[0;31m---------------------------------------------------------------------------\u001B[0m",
      "\u001B[0;31mNameError\u001B[0m                                 Traceback (most recent call last)",
      "Input \u001B[0;32mIn [5]\u001B[0m, in \u001B[0;36m<cell line: 1>\u001B[0;34m()\u001B[0m\n\u001B[1;32m      1\u001B[0m \u001B[38;5;28;01mfor\u001B[39;00m i \u001B[38;5;129;01min\u001B[39;00m \u001B[38;5;28mrange\u001B[39m(\u001B[38;5;28mlen\u001B[39m(tokens)\u001B[38;5;241m-\u001B[39m\u001B[38;5;241m1\u001B[39m):\n\u001B[0;32m----> 2\u001B[0m     row \u001B[38;5;241m=\u001B[39m \u001B[43mstate_index\u001B[49m[tokens[i]]\n\u001B[1;32m      3\u001B[0m     col \u001B[38;5;241m=\u001B[39m state_index[tokens[i\u001B[38;5;241m+\u001B[39m\u001B[38;5;241m1\u001B[39m]]\n\u001B[1;32m      4\u001B[0m     m[row,col] \u001B[38;5;241m+\u001B[39m\u001B[38;5;241m=\u001B[39m \u001B[38;5;241m1\u001B[39m\n",
      "\u001B[0;31mNameError\u001B[0m: name 'state_index' is not defined"
     ]
    }
   ],
   "execution_count": 5
  },
  {
   "cell_type": "markdown",
   "metadata": {},
   "source": [
    "Generate new text"
   ]
  },
  {
   "cell_type": "code",
   "execution_count": 34,
   "metadata": {},
   "outputs": [
    {
     "name": "stdout",
     "output_type": "stream",
     "text": [
      "Courteously at the evening set up there that they lived with us sit down, and has happened, said, there!\n",
      "\n",
      "The joint will it, who has my husband now there in love of her.\n",
      "\n",
      "Rapunzel lost her sake.\n",
      "\n",
      "\n"
     ]
    }
   ],
   "source": [
    "import numpy as np\n",
    "start_state_index = np.random.randint(len(distinct_states)) #choose a random distinct state\n",
    "state = distinct_states[start_state_index]\n",
    "num_sentences = 0 #to keep track of the sentence numbers\n",
    "output = state.capitalize()\n",
    "capitalize = False #to keep track that words capitalized or not\n",
    "\n",
    "while num_sentences < 3: \n",
    "    row = m[state_index[state], :]\n",
    "    probabilities = row / row.sum() #obtain probabilities with sum equal to 1\n",
    "    probabilities = probabilities.toarray()[0]\n",
    "    \n",
    "    next_state_index = np.random.choice(\n",
    "        len(distinct_states),\n",
    "        1,\n",
    "        p = probabilities\n",
    "    )\n",
    "    next_state = distinct_states[next_state_index[0]]\n",
    "    \n",
    "    if next_state in ('.', '!', '?'):\n",
    "        output += next_state + '\\n\\n'\n",
    "        capitalize = True\n",
    "        num_sentences += 1\n",
    "    elif next_state == \",\":\n",
    "        output += next_state\n",
    "    else:\n",
    "        if capitalize:\n",
    "            output += next_state.capitalize()\n",
    "            capitalize = False\n",
    "        else: \n",
    "            output += \" \" + next_state\n",
    "        \n",
    "    state = next_state\n",
    "    \n",
    "print(output)"
   ]
  },
  {
   "cell_type": "markdown",
   "metadata": {},
   "source": [
    "k-Word Markov Chain\n",
    "-------------------\n",
    "\n",
    "**The cat ran over the dog.**\n",
    "\n",
    "![alt text](images/markov_text2.png \"Text\")\n",
    "\n",
    "Matrix representation (rows are current state, columns are next state):\n",
    "\n",
    "| | the cat | cat ran | ran over | over the | the dog | dog. |\n",
    "| --- | --- | --- | --- | --- | --- | --- |\n",
    "| **the cat**  | 0 | 1 | 0 | 0 | 0 | 0 |\n",
    "| **cat ran**  | 0 | 0 | 1 | 0 | 0 | 0 |\n",
    "| **ran over** | 0 | 0 | 0 | 1 | 0 | 0 |\n",
    "| **over the** | 0 | 0 | 0 | 0 | 1 | 0 |\n",
    "| **the dog**  | 0 | 0 | 0 | 0 | 0 | 1 |\n",
    "| **dog.**     | 0 | 0 | 0 | 0 | 0 | 1 |\n",
    "\n"
   ]
  },
  {
   "cell_type": "markdown",
   "metadata": {},
   "source": [
    "Define states as consecutive token pairs"
   ]
  },
  {
   "cell_type": "code",
   "execution_count": 49,
   "metadata": {},
   "outputs": [],
   "source": [
    "k = 2\n",
    "tokens = text.lower().split()\n",
    "states = [tuple(tokens[i:i+k]) for i in range(len(tokens)-k+1)]\n",
    "distinct_states = list(set(states))"
   ]
  },
  {
   "cell_type": "markdown",
   "metadata": {},
   "source": [
    "Define and fill transition matrix"
   ]
  },
  {
   "cell_type": "code",
   "execution_count": 50,
   "metadata": {},
   "outputs": [],
   "source": [
    "from scipy.sparse import csr_matrix\n",
    "m = csr_matrix(\n",
    "    (len(distinct_states), len(distinct_states)),\n",
    "    dtype = int\n",
    ")\n",
    "\n",
    "state_index = dict(\n",
    "    [(state, idx_num) for idx_num, state in enumerate(distinct_states)]\n",
    ")"
   ]
  },
  {
   "cell_type": "markdown",
   "metadata": {},
   "source": [
    "Generate new text"
   ]
  },
  {
   "cell_type": "code",
   "execution_count": 51,
   "metadata": {},
   "outputs": [
    {
     "name": "stderr",
     "output_type": "stream",
     "text": [
      "/home/rhyme/.local/lib/python3.6/site-packages/scipy/sparse/_index.py:84: SparseEfficiencyWarning: Changing the sparsity structure of a csr_matrix is expensive. lil_matrix is more efficient.\n",
      "  self._set_intXint(row, col, x.flat[0])\n"
     ]
    }
   ],
   "source": [
    "for i in range(len(tokens)-k):\n",
    "    state = tuple(tokens[i:i+k])\n",
    "    next_state = tuple(tokens[i+1:i+1+k])\n",
    "    row = state_index[state]\n",
    "    col = state_index[next_state]\n",
    "    m[row,col] += 1 "
   ]
  },
  {
   "cell_type": "code",
   "execution_count": 57,
   "metadata": {},
   "outputs": [
    {
     "name": "stdout",
     "output_type": "stream",
     "text": [
      "Happens for the following day.\n",
      "\n",
      "So he built a handsome man, who was already on the floor.\n",
      "\n",
      "At the dish, was too long, long ago, some peas be strewn.\n",
      "\n",
      "\n"
     ]
    }
   ],
   "source": [
    "import numpy as np\n",
    "start_state_index = np.random.randint(len(distinct_states)) #choose a random distinct state\n",
    "state = distinct_states[start_state_index]\n",
    "num_sentences = 0 #to keep track of the sentence numbers\n",
    "output = ' '.join(state).capitalize()\n",
    "capitalize = False #to keep track that words capitalized or not\n",
    "\n",
    "while num_sentences < 3: \n",
    "    row = m[state_index[state], :]\n",
    "    probabilities = row / row.sum() #obtain probabilities with sum equal to 1\n",
    "    probabilities = probabilities.toarray()[0]\n",
    "    \n",
    "    next_state_index = np.random.choice(\n",
    "        len(distinct_states),\n",
    "        1,\n",
    "        p = probabilities\n",
    "    )\n",
    "    next_state = distinct_states[next_state_index[0]]\n",
    "    \n",
    "    if next_state[-1] in ('.', '!', '?'):\n",
    "        output += next_state[-1] + '\\n\\n'\n",
    "        capitalize = True\n",
    "        num_sentences += 1\n",
    "    elif next_state[-1] == \",\":\n",
    "        output += next_state[-1]\n",
    "    else:\n",
    "        if capitalize:\n",
    "            output += next_state[-1].capitalize()\n",
    "            capitalize = False\n",
    "        else: \n",
    "            output += \" \" + next_state[-1]\n",
    "        \n",
    "    state = next_state\n",
    "    \n",
    "print(output)"
   ]
  },
  {
   "cell_type": "code",
   "execution_count": null,
   "metadata": {},
   "outputs": [],
   "source": []
  }
 ],
 "metadata": {
  "kernelspec": {
   "display_name": "Python 3",
   "language": "python",
   "name": "python3"
  },
  "language_info": {
   "codemirror_mode": {
    "name": "ipython",
    "version": 3
   },
   "file_extension": ".py",
   "mimetype": "text/x-python",
   "name": "python",
   "nbconvert_exporter": "python",
   "pygments_lexer": "ipython3",
   "version": "3.6.9"
  }
 },
 "nbformat": 4,
 "nbformat_minor": 4
}
